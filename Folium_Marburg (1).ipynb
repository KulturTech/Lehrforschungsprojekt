{
 "cells": [
  {
   "cell_type": "code",
   "execution_count": 3,
   "id": "b1f3aa82-ad92-459b-9b9c-64511bf552fd",
   "metadata": {},
   "outputs": [
    {
     "name": "stdout",
     "output_type": "stream",
     "text": [
      "Collecting folium\n",
      "  Downloading folium-0.16.0-py2.py3-none-any.whl.metadata (3.6 kB)\n",
      "Collecting branca>=0.6.0 (from folium)\n",
      "  Downloading branca-0.7.1-py3-none-any.whl.metadata (1.5 kB)\n",
      "Requirement already satisfied: jinja2>=2.9 in c:\\users\\gomess\\appdata\\local\\anaconda3\\lib\\site-packages (from folium) (3.1.3)\n",
      "Requirement already satisfied: numpy in c:\\users\\gomess\\appdata\\local\\anaconda3\\lib\\site-packages (from folium) (1.26.4)\n",
      "Requirement already satisfied: requests in c:\\users\\gomess\\appdata\\local\\anaconda3\\lib\\site-packages (from folium) (2.31.0)\n",
      "Requirement already satisfied: xyzservices in c:\\users\\gomess\\appdata\\local\\anaconda3\\lib\\site-packages (from folium) (2022.9.0)\n",
      "Requirement already satisfied: MarkupSafe>=2.0 in c:\\users\\gomess\\appdata\\local\\anaconda3\\lib\\site-packages (from jinja2>=2.9->folium) (2.1.3)\n",
      "Requirement already satisfied: charset-normalizer<4,>=2 in c:\\users\\gomess\\appdata\\local\\anaconda3\\lib\\site-packages (from requests->folium) (2.0.4)\n",
      "Requirement already satisfied: idna<4,>=2.5 in c:\\users\\gomess\\appdata\\local\\anaconda3\\lib\\site-packages (from requests->folium) (3.4)\n",
      "Requirement already satisfied: urllib3<3,>=1.21.1 in c:\\users\\gomess\\appdata\\local\\anaconda3\\lib\\site-packages (from requests->folium) (2.0.7)\n",
      "Requirement already satisfied: certifi>=2017.4.17 in c:\\users\\gomess\\appdata\\local\\anaconda3\\lib\\site-packages (from requests->folium) (2024.2.2)\n",
      "Downloading folium-0.16.0-py2.py3-none-any.whl (100 kB)\n",
      "   ---------------------------------------- 0.0/100.0 kB ? eta -:--:--\n",
      "   ---- ----------------------------------- 10.2/100.0 kB ? eta -:--:--\n",
      "   --------------------------- ----------- 71.7/100.0 kB 991.0 kB/s eta 0:00:01\n",
      "   ---------------------------------------- 100.0/100.0 kB 1.2 MB/s eta 0:00:00\n",
      "Downloading branca-0.7.1-py3-none-any.whl (25 kB)\n",
      "Installing collected packages: branca, folium\n",
      "Successfully installed branca-0.7.1 folium-0.16.0\n"
     ]
    }
   ],
   "source": [
    "!pip install folium"
   ]
  },
  {
   "cell_type": "code",
   "execution_count": 4,
   "id": "7532f280-edd0-41c2-abc2-93b7e73ddece",
   "metadata": {},
   "outputs": [],
   "source": [
    "import folium"
   ]
  },
  {
   "cell_type": "code",
   "execution_count": 6,
   "id": "ab36c60a-982b-447c-861e-e35dcd36ad8d",
   "metadata": {},
   "outputs": [],
   "source": [
    "# Marburg Koordinaten\n",
    "marburg_coords = (50.8058, 8.7702)\n",
    "\n",
    "# Karte erstellen\n",
    "marburg_map = folium.Map(location=marburg_coords, zoom_start=13)\n",
    "\n",
    "# Marker hinzufügen\n",
    "folium.Marker(location=marburg_coords, popup=\"Marburg\").add_to(marburg_map)\n",
    "\n",
    "# Karte anzeigen\n",
    "marburg_map.save(\"marburg_karte.html\")"
   ]
  },
  {
   "cell_type": "code",
   "execution_count": 7,
   "id": "aa193c99-0726-4f43-8fcc-cb35bd0da7b1",
   "metadata": {},
   "outputs": [
    {
     "data": {
      "text/html": [
       "\n",
       "        <iframe\n",
       "            width=\"700\"\n",
       "            height=\"600\"\n",
       "            src=\"marburg_karte.html\"\n",
       "            frameborder=\"0\"\n",
       "            allowfullscreen\n",
       "            \n",
       "        ></iframe>\n",
       "        "
      ],
      "text/plain": [
       "<IPython.lib.display.IFrame at 0x27547cb2690>"
      ]
     },
     "execution_count": 7,
     "metadata": {},
     "output_type": "execute_result"
    }
   ],
   "source": [
    "from IPython.display import IFrame\n",
    "\n",
    "# Karte anzeigen\n",
    "IFrame(src='marburg_karte.html', width=700, height=600)\n"
   ]
  },
  {
   "cell_type": "code",
   "execution_count": 8,
   "id": "dd84ea37-cddd-48c9-9c78-5f4042a057c6",
   "metadata": {},
   "outputs": [],
   "source": [
    "marburg_map = folium.Map(location=marburg_coords, zoom_start=13)"
   ]
  },
  {
   "cell_type": "code",
   "execution_count": 25,
   "id": "c9098050-8f9d-40cc-91d4-e690db6f2216",
   "metadata": {},
   "outputs": [],
   "source": [
    "import folium\n",
    "\n",
    "# Marburg Koordinaten\n",
    "marburg_coords = (50.806653, 8.771945)\n",
    "\n",
    "# Karte erstellen\n",
    "marburg_map = folium.Map(location=marburg_coords, zoom_start=13)\n",
    "\n",
    "# Marker hinzufügen\n",
    "folium.Marker(location=marburg_coords, popup=folium.Popup('<a href=\"audio_file1.aac\">Audio 1</a>', parse_html=True)).add_to(marburg_map)\n",
    "\n",
    "# Weitere Marker mit Audio-Dateien hinzufügen\n",
    "folium.Marker(location=(50.813383, 8.771076), popup=folium.Popup('<a href=\"audio_file2.aac\">Audio 2</a>', parse_html=True)).add_to(marburg_map)\n",
    "\n",
    "# Karte anzeigen\n",
    "marburg_map.save(\"marburg_karte_mit_audio.html\")"
   ]
  },
  {
   "cell_type": "code",
   "execution_count": 26,
   "id": "0ec48758-18cd-44ff-afcf-27afa2665d19",
   "metadata": {},
   "outputs": [
    {
     "data": {
      "text/html": [
       "\n",
       "        <iframe\n",
       "            width=\"700\"\n",
       "            height=\"600\"\n",
       "            src=\"marburg_karte_mit_audio.html\"\n",
       "            frameborder=\"0\"\n",
       "            allowfullscreen\n",
       "            \n",
       "        ></iframe>\n",
       "        "
      ],
      "text/plain": [
       "<IPython.lib.display.IFrame at 0x27548238a90>"
      ]
     },
     "execution_count": 26,
     "metadata": {},
     "output_type": "execute_result"
    }
   ],
   "source": [
    "# Karte anzeigen\n",
    "IFrame(src='marburg_karte_mit_audio.html', width=700, height=600)"
   ]
  },
  {
   "cell_type": "code",
   "execution_count": 26,
   "id": "9905511f-af82-4561-b396-7504de286fde",
   "metadata": {},
   "outputs": [
    {
     "data": {
      "text/html": [
       "\n",
       "        <iframe\n",
       "            width=\"700\"\n",
       "            height=\"600\"\n",
       "            src=\"marburg_karte_mit_audio.html\"\n",
       "            frameborder=\"0\"\n",
       "            allowfullscreen\n",
       "            \n",
       "        ></iframe>\n",
       "        "
      ],
      "text/plain": [
       "<IPython.lib.display.IFrame at 0x27548238a90>"
      ]
     },
     "execution_count": 26,
     "metadata": {},
     "output_type": "execute_result"
    }
   ],
   "source": [
    "# Karte anzeigen\n",
    "IFrame(src='marburg_karte_mit_audio.html', width=700, height=600)"
   ]
  },
  {
   "cell_type": "code",
   "execution_count": 33,
   "id": "e28923c1-f0a1-4242-b2a1-364d84bb9d9c",
   "metadata": {},
   "outputs": [
    {
     "data": {
      "text/html": [
       "\n",
       "        <iframe\n",
       "            width=\"700\"\n",
       "            height=\"600\"\n",
       "            src=\"marburg_karte_mit_audio.html\"\n",
       "            frameborder=\"0\"\n",
       "            allowfullscreen\n",
       "            \n",
       "        ></iframe>\n",
       "        "
      ],
      "text/plain": [
       "<IPython.lib.display.IFrame at 0x2754686d790>"
      ]
     },
     "execution_count": 33,
     "metadata": {},
     "output_type": "execute_result"
    }
   ],
   "source": [
    "# Karte anzeigen\n",
    "IFrame(src='marburg_karte_mit_audio.html', width=700, height=600)"
   ]
  },
  {
   "cell_type": "code",
   "execution_count": 40,
   "id": "cea1895f-7447-493e-a16d-a131eb95edfc",
   "metadata": {},
   "outputs": [],
   "source": [
    "# Funktion zum Konvertieren von .aac in .mp3\n",
    "def create_audio_player(audio_file):\n",
    "    return f'''\n",
    "    <audio controls>\n",
    "      <source src=\"{audio_file}\" type=\"audio/mpeg\">\n",
    "      Your browser does not support the audio element.\n",
    "    </audio>\n",
    "    '''\n",
    "\n",
    "# Karte erstellen\n",
    "marburg_map = folium.Map(location=[50.8088, 8.7756], zoom_start=15)\n",
    "\n",
    "# Marker mit Audio-Playern an verschiedenen Orten hinzufügen\n",
    "audio_locations = {\n",
    "    (50.806653, 8.771945): \"audio_file1.aac\",\n",
    "    (50.813383, 8.771076): \"audio_file2.aac\",\n",
    "}\n",
    "for location, audio_file in audio_locations.items():\n",
    "    popup_content = create_audio_player(audio_file)\n",
    "    folium.Marker(location=location, popup=folium.Popup(popup_content)).add_to(marburg_map)\n",
    "\n",
    "# Karte anzeigen\n",
    "marburg_map.save(\"marburg_karte_mit_audio.html\")"
   ]
  }
 ],
 "metadata": {
  "kernelspec": {
   "display_name": "Python 3 (ipykernel)",
   "language": "python",
   "name": "python3"
  },
  "language_info": {
   "codemirror_mode": {
    "name": "ipython",
    "version": 3
   },
   "file_extension": ".py",
   "mimetype": "text/x-python",
   "name": "python",
   "nbconvert_exporter": "python",
   "pygments_lexer": "ipython3",
   "version": "3.11.7"
  }
 },
 "nbformat": 4,
 "nbformat_minor": 5
}
